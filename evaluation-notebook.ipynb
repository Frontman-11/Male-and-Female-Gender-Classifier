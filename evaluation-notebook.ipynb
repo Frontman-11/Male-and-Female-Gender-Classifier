{
 "cells": [
  {
   "cell_type": "code",
   "execution_count": 1,
   "id": "c93fac27",
   "metadata": {
    "execution": {
     "iopub.execute_input": "2024-08-18T15:14:28.627529Z",
     "iopub.status.busy": "2024-08-18T15:14:28.626865Z",
     "iopub.status.idle": "2024-08-18T15:14:33.807002Z",
     "shell.execute_reply": "2024-08-18T15:14:33.805888Z"
    },
    "papermill": {
     "duration": 5.192398,
     "end_time": "2024-08-18T15:14:33.809468",
     "exception": false,
     "start_time": "2024-08-18T15:14:28.617070",
     "status": "completed"
    },
    "tags": []
   },
   "outputs": [
    {
     "name": "stdout",
     "output_type": "stream",
     "text": [
      "Cloning into '/kaggle/working/Gender-Classifier'...\r\n",
      "remote: Enumerating objects: 214, done.\u001b[K\r\n",
      "remote: Counting objects: 100% (66/66), done.\u001b[K\r\n",
      "remote: Compressing objects: 100% (66/66), done.\u001b[K\r\n",
      "remote: Total 214 (delta 33), reused 0 (delta 0), pack-reused 148 (from 1)\u001b[K\r\n",
      "Receiving objects: 100% (214/214), 25.50 MiB | 10.01 MiB/s, done.\r\n",
      "Resolving deltas: 100% (118/118), done.\r\n"
     ]
    }
   ],
   "source": [
    "from kaggle_secrets import UserSecretsClient\n",
    "user_secrets = UserSecretsClient()\n",
    "secret_value_0 = user_secrets.get_secret(\"github_token\")\n",
    "import shutil\n",
    "\n",
    "# shutil.rmtree('/kaggle/working/Gender-Classifier')\n",
    "\n",
    "!git clone https://{secret_value_0}@github.com/Frontman-11/Gender-Classifier.git /kaggle/working/Gender-Classifier"
   ]
  },
  {
   "cell_type": "markdown",
   "id": "1445dac8",
   "metadata": {
    "papermill": {
     "duration": 0.008564,
     "end_time": "2024-08-18T15:14:33.827247",
     "exception": false,
     "start_time": "2024-08-18T15:14:33.818683",
     "status": "completed"
    },
    "tags": []
   },
   "source": [
    "# SUMMARY\n",
    "\n",
    "${This\\ notebook\\ evaluates\\ the\\ model\\ on\\ all\\ three\\ datasets\\ for\\ easy\\ comparison.\\ It\\ also\\ adds\\ some\\ visualization.}$"
   ]
  },
  {
   "cell_type": "markdown",
   "id": "e42251c7",
   "metadata": {
    "papermill": {
     "duration": 0.008426,
     "end_time": "2024-08-18T15:14:33.844372",
     "exception": false,
     "start_time": "2024-08-18T15:14:33.835946",
     "status": "completed"
    },
    "tags": []
   },
   "source": [
    "## Import Packages"
   ]
  },
  {
   "cell_type": "code",
   "execution_count": 2,
   "id": "5760365f",
   "metadata": {
    "_cell_guid": "b1076dfc-b9ad-4769-8c92-a6c4dae69d19",
    "_uuid": "8f2839f25d086af736a60e9eeb907d3b93b6e0e5",
    "execution": {
     "iopub.execute_input": "2024-08-18T15:14:33.863480Z",
     "iopub.status.busy": "2024-08-18T15:14:33.862918Z",
     "iopub.status.idle": "2024-08-18T15:14:47.793558Z",
     "shell.execute_reply": "2024-08-18T15:14:47.792752Z"
    },
    "papermill": {
     "duration": 13.942946,
     "end_time": "2024-08-18T15:14:47.796044",
     "exception": false,
     "start_time": "2024-08-18T15:14:33.853098",
     "status": "completed"
    },
    "tags": []
   },
   "outputs": [
    {
     "name": "stderr",
     "output_type": "stream",
     "text": [
      "2024-08-18 15:14:35.857412: E external/local_xla/xla/stream_executor/cuda/cuda_dnn.cc:9261] Unable to register cuDNN factory: Attempting to register factory for plugin cuDNN when one has already been registered\n",
      "2024-08-18 15:14:35.857518: E external/local_xla/xla/stream_executor/cuda/cuda_fft.cc:607] Unable to register cuFFT factory: Attempting to register factory for plugin cuFFT when one has already been registered\n",
      "2024-08-18 15:14:35.992962: E external/local_xla/xla/stream_executor/cuda/cuda_blas.cc:1515] Unable to register cuBLAS factory: Attempting to register factory for plugin cuBLAS when one has already been registered\n"
     ]
    }
   ],
   "source": [
    "import sys\n",
    "sys.path.append('/kaggle/working/Gender-Classifier/')\n",
    "from image_utils import read_plot_image, plot_wrong_pred\n",
    "import preprocess\n",
    "from evaluation import Evaluation\n",
    "#################\n",
    "import tensorflow as tf\n",
    "import glob\n",
    "import importlib\n",
    "# import evaluation\n",
    "# importlib.reload(evaluation)"
   ]
  },
  {
   "cell_type": "markdown",
   "id": "66d6d8c6",
   "metadata": {
    "papermill": {
     "duration": 0.008694,
     "end_time": "2024-08-18T15:14:47.813988",
     "exception": false,
     "start_time": "2024-08-18T15:14:47.805294",
     "status": "completed"
    },
    "tags": []
   },
   "source": [
    "## Seeding "
   ]
  },
  {
   "cell_type": "code",
   "execution_count": 3,
   "id": "5ec41eaa",
   "metadata": {
    "execution": {
     "iopub.execute_input": "2024-08-18T15:14:47.833309Z",
     "iopub.status.busy": "2024-08-18T15:14:47.832827Z",
     "iopub.status.idle": "2024-08-18T15:14:47.837469Z",
     "shell.execute_reply": "2024-08-18T15:14:47.836600Z"
    },
    "papermill": {
     "duration": 0.016452,
     "end_time": "2024-08-18T15:14:47.839477",
     "exception": false,
     "start_time": "2024-08-18T15:14:47.823025",
     "status": "completed"
    },
    "tags": []
   },
   "outputs": [],
   "source": [
    "tf.random.set_seed(42)"
   ]
  },
  {
   "cell_type": "markdown",
   "id": "8a9101de",
   "metadata": {
    "papermill": {
     "duration": 0.008678,
     "end_time": "2024-08-18T15:14:47.857803",
     "exception": false,
     "start_time": "2024-08-18T15:14:47.849125",
     "status": "completed"
    },
    "tags": []
   },
   "source": [
    "## Datasets"
   ]
  },
  {
   "cell_type": "markdown",
   "id": "d05f8211",
   "metadata": {
    "papermill": {
     "duration": 0.008726,
     "end_time": "2024-08-18T15:14:47.875303",
     "exception": false,
     "start_time": "2024-08-18T15:14:47.866577",
     "status": "completed"
    },
    "tags": []
   },
   "source": [
    "### ${Gathering\\ datasets\\ filepaths}$"
   ]
  },
  {
   "cell_type": "code",
   "execution_count": 4,
   "id": "361520b1",
   "metadata": {
    "execution": {
     "iopub.execute_input": "2024-08-18T15:14:47.894259Z",
     "iopub.status.busy": "2024-08-18T15:14:47.893827Z",
     "iopub.status.idle": "2024-08-18T15:14:48.598157Z",
     "shell.execute_reply": "2024-08-18T15:14:48.597147Z"
    },
    "papermill": {
     "duration": 0.716567,
     "end_time": "2024-08-18T15:14:48.600499",
     "exception": false,
     "start_time": "2024-08-18T15:14:47.883932",
     "status": "completed"
    },
    "tags": []
   },
   "outputs": [],
   "source": [
    "train_male_pattern = '/kaggle/input/male-tfrecord-dataset/train_male.tfrecord-*-of-*'\n",
    "train_female_pattern = '/kaggle/input/female-tfrecord-dataset/train_female.tfrecord-*-of-*'\n",
    "\n",
    "valid_male_pattern = '/kaggle/input/tfrecord-writing/valid_male.tfrecord-*-of-*'\n",
    "valid_female_pattern = '/kaggle/input/tfrecord-writing/valid_female.tfrecord-*-of-*'\n",
    "\n",
    "test_female_pattern = '/kaggle/input/tfrecord-writing/test_female.tfrecord-*-of-*'\n",
    "test_male_pattern = '/kaggle/input/tfrecord-writing/test_male.tfrecord-*-of-*'\n",
    "\n",
    "\n",
    "\n",
    "train_male_filepaths = glob.glob(train_male_pattern)\n",
    "train_female_filepaths = glob.glob(train_female_pattern)\n",
    "\n",
    "valid_male_filepaths = glob.glob(valid_male_pattern)\n",
    "valid_female_filepaths = glob.glob(valid_female_pattern)\n",
    "\n",
    "test_male_filepaths = glob.glob(test_male_pattern)\n",
    "test_female_filepaths = glob.glob(test_female_pattern)\n",
    "\n",
    "\n",
    "train_filepaths = train_male_filepaths + train_female_filepaths\n",
    "valiid_filepaths = valid_male_filepaths + valid_female_filepaths\n",
    "test_filepaths = test_male_filepaths + test_female_filepaths \n",
    "\n",
    "\n",
    "train_file_dataset = tf.data.Dataset.from_tensor_slices(train_filepaths)\n",
    "\n",
    "valid_file_dataset = tf.data.Dataset.from_tensor_slices(valiid_filepaths)\n",
    "\n",
    "test_male_file_dataset = tf.data.Dataset.from_tensor_slices(test_male_filepaths)\n",
    "test_female_file_dataset = tf.data.Dataset.from_tensor_slices(test_female_filepaths)\n",
    "test_file_dataset = tf.data.Dataset.from_tensor_slices(test_filepaths)"
   ]
  },
  {
   "cell_type": "markdown",
   "id": "158dd5cb",
   "metadata": {
    "papermill": {
     "duration": 0.008887,
     "end_time": "2024-08-18T15:14:48.618594",
     "exception": false,
     "start_time": "2024-08-18T15:14:48.609707",
     "status": "completed"
    },
    "tags": []
   },
   "source": [
    "### ${Getting\\ dataset}$"
   ]
  },
  {
   "cell_type": "code",
   "execution_count": 5,
   "id": "5bb0c269",
   "metadata": {
    "execution": {
     "iopub.execute_input": "2024-08-18T15:14:48.637944Z",
     "iopub.status.busy": "2024-08-18T15:14:48.637398Z",
     "iopub.status.idle": "2024-08-18T15:14:49.207808Z",
     "shell.execute_reply": "2024-08-18T15:14:49.207016Z"
    },
    "papermill": {
     "duration": 0.582828,
     "end_time": "2024-08-18T15:14:49.210245",
     "exception": false,
     "start_time": "2024-08-18T15:14:48.627417",
     "status": "completed"
    },
    "tags": []
   },
   "outputs": [],
   "source": [
    "train_set = preprocess.gender_dataset(\n",
    "    filepaths=train_file_dataset,\n",
    "    repeat=False,\n",
    "    normalise=True,\n",
    "    augment_image=None,\n",
    "    shuffle_buffer_size=None,\n",
    "    cache=None,\n",
    "    batch_size=128,\n",
    "    image_shape=(218, 178, 3),\n",
    "    n_reads=tf.data.AUTOTUNE,\n",
    "    prefetch=tf.data.AUTOTUNE,\n",
    ") \n",
    "\n",
    "valid_set = preprocess.gender_dataset(\n",
    "    filepaths=valid_file_dataset,\n",
    "    batch_size=128,\n",
    "    image_shape=(218, 178, 3),\n",
    "    n_reads=tf.data.AUTOTUNE,\n",
    "    prefetch=tf.data.AUTOTUNE,\n",
    ")\n",
    "\n",
    "test_male_set = preprocess.gender_dataset(\n",
    "    test_male_file_dataset,\n",
    "    batch_size=128,\n",
    "    n_reads=tf.data.AUTOTUNE\n",
    ")\n",
    "\n",
    "test_female_set = preprocess.gender_dataset(\n",
    "    test_female_file_dataset,\n",
    "    batch_size=128,\n",
    "    n_reads=tf.data.AUTOTUNE\n",
    ")\n",
    "\n",
    "test_set = preprocess.gender_dataset(\n",
    "    test_file_dataset,\n",
    "    batch_size=128,\n",
    "    n_reads=tf.data.AUTOTUNE\n",
    ")"
   ]
  },
  {
   "cell_type": "markdown",
   "id": "e8d40ee7",
   "metadata": {
    "papermill": {
     "duration": 0.008732,
     "end_time": "2024-08-18T15:14:49.228306",
     "exception": false,
     "start_time": "2024-08-18T15:14:49.219574",
     "status": "completed"
    },
    "tags": []
   },
   "source": [
    "## Model Loading"
   ]
  },
  {
   "cell_type": "code",
   "execution_count": 6,
   "id": "878b23a9",
   "metadata": {
    "execution": {
     "iopub.execute_input": "2024-08-18T15:14:49.247235Z",
     "iopub.status.busy": "2024-08-18T15:14:49.246891Z",
     "iopub.status.idle": "2024-08-18T15:14:53.311868Z",
     "shell.execute_reply": "2024-08-18T15:14:53.311075Z"
    },
    "papermill": {
     "duration": 4.077081,
     "end_time": "2024-08-18T15:14:53.314326",
     "exception": false,
     "start_time": "2024-08-18T15:14:49.237245",
     "status": "completed"
    },
    "tags": []
   },
   "outputs": [],
   "source": [
    "model_filepath = '/kaggle/input/gender-classifier/tensorflow2/default/2/model_1.keras'\n",
    "\n",
    "model = tf.keras.models.load_model(model_filepath)"
   ]
  },
  {
   "cell_type": "markdown",
   "id": "5d304d00",
   "metadata": {
    "papermill": {
     "duration": 0.008872,
     "end_time": "2024-08-18T15:14:53.332638",
     "exception": false,
     "start_time": "2024-08-18T15:14:53.323766",
     "status": "completed"
    },
    "tags": []
   },
   "source": [
    "## Evaluation"
   ]
  },
  {
   "cell_type": "code",
   "execution_count": 7,
   "id": "3c0398c5",
   "metadata": {
    "execution": {
     "iopub.execute_input": "2024-08-18T15:14:53.351505Z",
     "iopub.status.busy": "2024-08-18T15:14:53.351220Z",
     "iopub.status.idle": "2024-08-18T15:18:24.196153Z",
     "shell.execute_reply": "2024-08-18T15:18:24.194744Z"
    },
    "papermill": {
     "duration": 210.858617,
     "end_time": "2024-08-18T15:18:24.200080",
     "exception": false,
     "start_time": "2024-08-18T15:14:53.341463",
     "status": "completed"
    },
    "tags": []
   },
   "outputs": [],
   "source": [
    "train_evaluation = Evaluation(model, train_set)\n",
    "valid_evaluation = Evaluation(model, valid_set)\n",
    "test_evaluation = Evaluation(model, test_set)"
   ]
  },
  {
   "cell_type": "markdown",
   "id": "bead0893",
   "metadata": {
    "papermill": {
     "duration": 0.012946,
     "end_time": "2024-08-18T15:18:24.227838",
     "exception": false,
     "start_time": "2024-08-18T15:18:24.214892",
     "status": "completed"
    },
    "tags": []
   },
   "source": [
    "### ${`classification\\_report`\\ for\\ `train\\_set`}$ "
   ]
  },
  {
   "cell_type": "code",
   "execution_count": 8,
   "id": "36bd6220",
   "metadata": {
    "execution": {
     "iopub.execute_input": "2024-08-18T15:18:24.250780Z",
     "iopub.status.busy": "2024-08-18T15:18:24.250429Z",
     "iopub.status.idle": "2024-08-18T15:18:24.401632Z",
     "shell.execute_reply": "2024-08-18T15:18:24.400523Z"
    },
    "papermill": {
     "duration": 0.165171,
     "end_time": "2024-08-18T15:18:24.404216",
     "exception": false,
     "start_time": "2024-08-18T15:18:24.239045",
     "status": "completed"
    },
    "tags": []
   },
   "outputs": [
    {
     "name": "stdout",
     "output_type": "stream",
     "text": [
      "              precision    recall  f1-score   support\n",
      "\n",
      "           0     0.9943    0.9970    0.9957     92845\n",
      "           1     0.9958    0.9921    0.9940     67155\n",
      "\n",
      "    accuracy                         0.9950    160000\n",
      "   macro avg     0.9951    0.9946    0.9948    160000\n",
      "weighted avg     0.9950    0.9950    0.9949    160000\n",
      "\n"
     ]
    }
   ],
   "source": [
    "train_evaluation.generate_classification_report(digits=4)"
   ]
  },
  {
   "cell_type": "markdown",
   "id": "1298cb07",
   "metadata": {
    "papermill": {
     "duration": 0.008913,
     "end_time": "2024-08-18T15:18:24.422249",
     "exception": false,
     "start_time": "2024-08-18T15:18:24.413336",
     "status": "completed"
    },
    "tags": []
   },
   "source": [
    "### ${`classification\\_report`\\ for\\ `valid\\_set`}$ "
   ]
  },
  {
   "cell_type": "code",
   "execution_count": 9,
   "id": "fd714bf9",
   "metadata": {
    "execution": {
     "iopub.execute_input": "2024-08-18T15:18:24.441742Z",
     "iopub.status.busy": "2024-08-18T15:18:24.440880Z",
     "iopub.status.idle": "2024-08-18T15:18:24.462731Z",
     "shell.execute_reply": "2024-08-18T15:18:24.461755Z"
    },
    "papermill": {
     "duration": 0.033644,
     "end_time": "2024-08-18T15:18:24.464654",
     "exception": false,
     "start_time": "2024-08-18T15:18:24.431010",
     "status": "completed"
    },
    "tags": []
   },
   "outputs": [
    {
     "name": "stdout",
     "output_type": "stream",
     "text": [
      "              precision    recall  f1-score   support\n",
      "\n",
      "           0     0.9857    0.9892    0.9874     13778\n",
      "           1     0.9830    0.9776    0.9803      8820\n",
      "\n",
      "    accuracy                         0.9846     22598\n",
      "   macro avg     0.9843    0.9834    0.9839     22598\n",
      "weighted avg     0.9846    0.9846    0.9846     22598\n",
      "\n"
     ]
    }
   ],
   "source": [
    "valid_evaluation.generate_classification_report(digits=4)"
   ]
  },
  {
   "cell_type": "markdown",
   "id": "614172cb",
   "metadata": {
    "papermill": {
     "duration": 0.008694,
     "end_time": "2024-08-18T15:18:24.482273",
     "exception": false,
     "start_time": "2024-08-18T15:18:24.473579",
     "status": "completed"
    },
    "tags": []
   },
   "source": [
    "### ${`classification\\_report`\\ for\\ `test\\_set`}$ "
   ]
  },
  {
   "cell_type": "code",
   "execution_count": 10,
   "id": "e10e11cb",
   "metadata": {
    "execution": {
     "iopub.execute_input": "2024-08-18T15:18:24.501790Z",
     "iopub.status.busy": "2024-08-18T15:18:24.501484Z",
     "iopub.status.idle": "2024-08-18T15:18:24.526543Z",
     "shell.execute_reply": "2024-08-18T15:18:24.525432Z"
    },
    "papermill": {
     "duration": 0.037024,
     "end_time": "2024-08-18T15:18:24.528472",
     "exception": false,
     "start_time": "2024-08-18T15:18:24.491448",
     "status": "completed"
    },
    "tags": []
   },
   "outputs": [
    {
     "name": "stdout",
     "output_type": "stream",
     "text": [
      "              precision    recall  f1-score   support\n",
      "\n",
      "           0     0.9880    0.9888    0.9884     11542\n",
      "           1     0.9847    0.9836    0.9841      8459\n",
      "\n",
      "    accuracy                         0.9866     20001\n",
      "   macro avg     0.9863    0.9862    0.9863     20001\n",
      "weighted avg     0.9866    0.9866    0.9866     20001\n",
      "\n"
     ]
    }
   ],
   "source": [
    "test_evaluation.generate_classification_report(digits=4)"
   ]
  },
  {
   "cell_type": "markdown",
   "id": "ff042d2a",
   "metadata": {
    "papermill": {
     "duration": 0.008669,
     "end_time": "2024-08-18T15:18:24.546099",
     "exception": false,
     "start_time": "2024-08-18T15:18:24.537430",
     "status": "completed"
    },
    "tags": []
   },
   "source": [
    "## Visualization"
   ]
  },
  {
   "cell_type": "markdown",
   "id": "25b70f9f",
   "metadata": {
    "papermill": {
     "duration": 0.00873,
     "end_time": "2024-08-18T15:18:24.563801",
     "exception": false,
     "start_time": "2024-08-18T15:18:24.555071",
     "status": "completed"
    },
    "tags": []
   },
   "source": [
    "###  ${`confusion\\_matrix`\\ for\\ 'train\\_set`}$"
   ]
  },
  {
   "cell_type": "code",
   "execution_count": 11,
   "id": "147c9f89",
   "metadata": {
    "execution": {
     "iopub.execute_input": "2024-08-18T15:18:24.583056Z",
     "iopub.status.busy": "2024-08-18T15:18:24.582779Z",
     "iopub.status.idle": "2024-08-18T15:18:24.895755Z",
     "shell.execute_reply": "2024-08-18T15:18:24.894719Z"
    },
    "papermill": {
     "duration": 0.325652,
     "end_time": "2024-08-18T15:18:24.898315",
     "exception": false,
     "start_time": "2024-08-18T15:18:24.572663",
     "status": "completed"
    },
    "tags": []
   },
   "outputs": [
    {
     "data": {
      "image/png": "[encoded data removed]",
      "text/plain": [
       "<Figure size 500x300 with 2 Axes>"
      ]
     },
     "metadata": {},
     "output_type": "display_data"
    }
   ],
   "source": [
    "train_evaluation.plot_confusion_matrix(figsize=(5, 3))"
   ]
  },
  {
   "cell_type": "markdown",
   "id": "b07bc0d9",
   "metadata": {
    "papermill": {
     "duration": 0.010798,
     "end_time": "2024-08-18T15:18:24.920292",
     "exception": false,
     "start_time": "2024-08-18T15:18:24.909494",
     "status": "completed"
    },
    "tags": []
   },
   "source": [
    "###  ${`confusion\\_matrix`\\ for\\ 'valid\\_set`}$"
   ]
  },
  {
   "cell_type": "code",
   "execution_count": 12,
   "id": "e06c4453",
   "metadata": {
    "execution": {
     "iopub.execute_input": "2024-08-18T15:18:24.943885Z",
     "iopub.status.busy": "2024-08-18T15:18:24.943553Z",
     "iopub.status.idle": "2024-08-18T15:18:25.169985Z",
     "shell.execute_reply": "2024-08-18T15:18:25.168832Z"
    },
    "papermill": {
     "duration": 0.24091,
     "end_time": "2024-08-18T15:18:25.172332",
     "exception": false,
     "start_time": "2024-08-18T15:18:24.931422",
     "status": "completed"
    },
    "tags": []
   },
   "outputs": [
    {
     "data": {
      "image/png": "[encoded data removed]",
      "text/plain": [
       "<Figure size 500x300 with 2 Axes>"
      ]
     },
     "metadata": {},
     "output_type": "display_data"
    }
   ],
   "source": [
    "valid_evaluation.plot_confusion_matrix(figsize=(5, 3))"
   ]
  },
  {
   "cell_type": "markdown",
   "id": "d2fa2b30",
   "metadata": {
    "papermill": {
     "duration": 0.011539,
     "end_time": "2024-08-18T15:18:25.195493",
     "exception": false,
     "start_time": "2024-08-18T15:18:25.183954",
     "status": "completed"
    },
    "tags": []
   },
   "source": [
    "###  ${`confusion\\_matrix`\\ for\\ 'test\\_set`}$"
   ]
  },
  {
   "cell_type": "markdown",
   "id": "ad0d76c1",
   "metadata": {
    "papermill": {
     "duration": 0.009756,
     "end_time": "2024-08-18T15:18:25.216162",
     "exception": false,
     "start_time": "2024-08-18T15:18:25.206406",
     "status": "completed"
    },
    "tags": []
   },
   "source": [
    "*Note that the folloowing plots returns the true label of the dataset. This means when the label is MALE for instance then it means the model predicted it as FEMALE.*"
   ]
  },
  {
   "cell_type": "code",
   "execution_count": 13,
   "id": "39e56bee",
   "metadata": {
    "execution": {
     "iopub.execute_input": "2024-08-18T15:18:25.236720Z",
     "iopub.status.busy": "2024-08-18T15:18:25.236438Z",
     "iopub.status.idle": "2024-08-18T15:18:25.410513Z",
     "shell.execute_reply": "2024-08-18T15:18:25.409509Z"
    },
    "papermill": {
     "duration": 0.186618,
     "end_time": "2024-08-18T15:18:25.412640",
     "exception": false,
     "start_time": "2024-08-18T15:18:25.226022",
     "status": "completed"
    },
    "tags": []
   },
   "outputs": [
    {
     "data": {
      "image/png": "[encoded data removed]",
      "text/plain": [
       "<Figure size 500x300 with 2 Axes>"
      ]
     },
     "metadata": {},
     "output_type": "display_data"
    }
   ],
   "source": [
    "test_evaluation.plot_confusion_matrix(figsize=(5, 3))"
   ]
  },
  {
   "cell_type": "markdown",
   "id": "789699b7",
   "metadata": {
    "papermill": {
     "duration": 0.010217,
     "end_time": "2024-08-18T15:18:25.433065",
     "exception": false,
     "start_time": "2024-08-18T15:18:25.422848",
     "status": "completed"
    },
    "tags": []
   },
   "source": [
    "###  ${Wrong\\ prediction\\ grid\\ for\\ 'train\\_set`}$"
   ]
  },
  {
   "cell_type": "code",
   "execution_count": 14,
   "id": "7885eb07",
   "metadata": {
    "execution": {
     "iopub.execute_input": "2024-08-18T15:18:25.454044Z",
     "iopub.status.busy": "2024-08-18T15:18:25.453739Z",
     "iopub.status.idle": "2024-08-18T15:23:10.876848Z",
     "shell.execute_reply": "2024-08-18T15:23:10.875708Z"
    },
    "papermill": {
     "duration": 285.436632,
     "end_time": "2024-08-18T15:23:10.879554",
     "exception": false,
     "start_time": "2024-08-18T15:18:25.442922",
     "status": "completed"
    },
    "tags": []
   },
   "outputs": [],
   "source": [
    "y_true, y_pred = train_evaluation.return_pred_and_label()\n",
    "\n",
    "plot_wrong_pred(\n",
    "    dataset=train_set,\n",
    "    y_true=y_true,\n",
    "    preds=y_pred,\n",
    "    subplot_row_col=(29, 29),\n",
    "    figsize=(40, 40),\n",
    "    fname='/kaggle/working/train_wrongs.png',\n",
    "    show=False,\n",
    "    take=-1\n",
    ")"
   ]
  },
  {
   "cell_type": "markdown",
   "id": "da096f6f",
   "metadata": {
    "papermill": {
     "duration": 0.010991,
     "end_time": "2024-08-18T15:23:10.901362",
     "exception": false,
     "start_time": "2024-08-18T15:23:10.890371",
     "status": "completed"
    },
    "tags": []
   },
   "source": [
    "###  ${Wrong\\ prediction\\ grid\\ for\\ 'valid\\_set`}$"
   ]
  },
  {
   "cell_type": "code",
   "execution_count": 15,
   "id": "50d09173",
   "metadata": {
    "execution": {
     "iopub.execute_input": "2024-08-18T15:23:10.922934Z",
     "iopub.status.busy": "2024-08-18T15:23:10.922606Z",
     "iopub.status.idle": "2024-08-18T15:24:25.996014Z",
     "shell.execute_reply": "2024-08-18T15:24:25.995139Z"
    },
    "papermill": {
     "duration": 75.086805,
     "end_time": "2024-08-18T15:24:25.998425",
     "exception": false,
     "start_time": "2024-08-18T15:23:10.911620",
     "status": "completed"
    },
    "tags": []
   },
   "outputs": [],
   "source": [
    "y_true, y_pred = valid_evaluation.return_pred_and_label()\n",
    "\n",
    "plot_wrong_pred(\n",
    "    dataset=valid_set,\n",
    "    y_true=y_true,\n",
    "    preds=y_pred,\n",
    "    subplot_row_col=(19, 19),\n",
    "    figsize=(30, 30),\n",
    "    fname='/kaggle/working/valid_wrongs.png',\n",
    "    show=False,\n",
    "    take=-1\n",
    ")"
   ]
  },
  {
   "cell_type": "markdown",
   "id": "143f5f74",
   "metadata": {
    "papermill": {
     "duration": 0.0098,
     "end_time": "2024-08-18T15:24:26.018771",
     "exception": false,
     "start_time": "2024-08-18T15:24:26.008971",
     "status": "completed"
    },
    "tags": []
   },
   "source": [
    "###  ${Wrong\\ prediction\\ grid\\ for\\ 'test\\_set`}$"
   ]
  },
  {
   "cell_type": "code",
   "execution_count": 16,
   "id": "516c8bf7",
   "metadata": {
    "execution": {
     "iopub.execute_input": "2024-08-18T15:24:26.040075Z",
     "iopub.status.busy": "2024-08-18T15:24:26.039759Z",
     "iopub.status.idle": "2024-08-18T15:25:23.540743Z",
     "shell.execute_reply": "2024-08-18T15:25:23.539922Z"
    },
    "papermill": {
     "duration": 57.514122,
     "end_time": "2024-08-18T15:25:23.543018",
     "exception": false,
     "start_time": "2024-08-18T15:24:26.028896",
     "status": "completed"
    },
    "tags": []
   },
   "outputs": [],
   "source": [
    "y_true, y_pred = test_evaluation.return_pred_and_label()\n",
    "\n",
    "plot_wrong_pred(\n",
    "    dataset=test_set,\n",
    "    y_true=y_true,\n",
    "    preds=y_pred,\n",
    "    subplot_row_col=(17, 17),\n",
    "    figsize=(25, 25),\n",
    "    fname='/kaggle/working/test_wrongs.png',\n",
    "    show=False,\n",
    "    take=-1\n",
    ")"
   ]
  }
 ],
 "metadata": {
  "kaggle": {
   "accelerator": "gpu",
   "dataSources": [
    {
     "datasetId": 5469276,
     "sourceId": 9067955,
     "sourceType": "datasetVersion"
    },
    {
     "datasetId": 5469430,
     "sourceId": 9068175,
     "sourceType": "datasetVersion"
    },
    {
     "sourceId": 193027045,
     "sourceType": "kernelVersion"
    },
    {
     "isSourceIdPinned": true,
     "modelId": 104530,
     "modelInstanceId": 80048,
     "sourceId": 96645,
     "sourceType": "modelInstanceVersion"
    }
   ],
   "dockerImageVersionId": 30747,
   "isGpuEnabled": true,
   "isInternetEnabled": true,
   "language": "python",
   "sourceType": "notebook"
  },
  "kernelspec": {
   "display_name": "Python 3",
   "language": "python",
   "name": "python3"
  },
  "language_info": {
   "codemirror_mode": {
    "name": "ipython",
    "version": 3
   },
   "file_extension": ".py",
   "mimetype": "text/x-python",
   "name": "python",
   "nbconvert_exporter": "python",
   "pygments_lexer": "ipython3",
   "version": "3.10.13"
  },
  "papermill": {
   "default_parameters": {},
   "duration": 661.454432,
   "end_time": "2024-08-18T15:25:27.345499",
   "environment_variables": {},
   "exception": null,
   "input_path": "__notebook__.ipynb",
   "output_path": "__notebook__.ipynb",
   "parameters": {},
   "start_time": "2024-08-18T15:14:25.891067",
   "version": "2.5.0"
  }
 },
 "nbformat": 4,
 "nbformat_minor": 5
}
